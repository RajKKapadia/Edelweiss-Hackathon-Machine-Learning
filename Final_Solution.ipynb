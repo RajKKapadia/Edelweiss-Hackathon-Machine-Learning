{
  "nbformat": 4,
  "nbformat_minor": 0,
  "metadata": {
    "colab": {
      "name": "Final Solution.ipynb",
      "version": "0.3.2",
      "provenance": [],
      "collapsed_sections": []
    },
    "kernelspec": {
      "name": "python3",
      "display_name": "Python 3"
    },
    "accelerator": "GPU"
  },
  "cells": [
    {
      "metadata": {
        "id": "TjRMU-8fW7-O",
        "colab_type": "code",
        "colab": {}
      },
      "cell_type": "code",
      "source": [
        "from google.colab import drive\n",
        "drive.mount('/gdrive')"
      ],
      "execution_count": 0,
      "outputs": []
    },
    {
      "metadata": {
        "id": "BWmRYoQJXC6E",
        "colab_type": "code",
        "colab": {}
      },
      "cell_type": "code",
      "source": [
        "BASE_PATH = \"/gdrive/My Drive/Colab Notebooks/Edelwise/\""
      ],
      "execution_count": 0,
      "outputs": []
    },
    {
      "metadata": {
        "id": "fo3QLzCAXQ9K",
        "colab_type": "code",
        "colab": {}
      },
      "cell_type": "code",
      "source": [
        "import zipfile\n",
        "print (\"Uncompressing zip file...\")\n",
        "zip_ref = zipfile.ZipFile(BASE_PATH+\"Foreclosure-Prediction-Dataset_.zip\", 'r')\n",
        "zip_ref.extractall('Edelwise/')\n",
        "zip_ref.close()\n",
        "print(\"Finished\")"
      ],
      "execution_count": 0,
      "outputs": []
    },
    {
      "metadata": {
        "id": "YcE9rIwRXUfy",
        "colab_type": "code",
        "colab": {}
      },
      "cell_type": "code",
      "source": [
        "import pandas as pd\n",
        "import numpy as np\n",
        "\n",
        "from sklearn.metrics import roc_auc_score\n",
        "import lightgbm as lgbm\n",
        "from sklearn.model_selection import StratifiedKFold\n",
        "from matplotlib import pyplot as plt\n",
        "from sklearn.model_selection import train_test_split\n",
        "\n",
        "from sklearn.impute import SimpleImputer"
      ],
      "execution_count": 0,
      "outputs": []
    },
    {
      "metadata": {
        "id": "0FG6JsV2XWpw",
        "colab_type": "code",
        "colab": {}
      },
      "cell_type": "code",
      "source": [
        "DATA_PATH = \"Edelwise/93fe009c-2-Foreclosure-Prediction-Dataset_/\""
      ],
      "execution_count": 0,
      "outputs": []
    },
    {
      "metadata": {
        "id": "n1OV1I_yXYyW",
        "colab_type": "code",
        "outputId": "7b379541-6ee5-46bb-dd33-d1b4d21c580b",
        "colab": {
          "base_uri": "https://localhost:8080/",
          "height": 51
        }
      },
      "cell_type": "code",
      "source": [
        "print(\"Reading data...\")\n",
        "train = pd.read_csv(DATA_PATH+\"train_foreclosure.csv\")\n",
        "test = pd.read_csv(DATA_PATH+\"test_foreclosure.csv\")\n",
        "transactions = pd.read_excel(DATA_PATH+\"LMS_31JAN2019.xlsx\")\n",
        "emails = pd.read_excel(DATA_PATH+\"RF_Final_Data.xlsx\")\n",
        "customers = pd.read_excel(DATA_PATH+\"Customers_31JAN2019.xlsx\")\n",
        "print(\"Finished...\")"
      ],
      "execution_count": 0,
      "outputs": [
        {
          "output_type": "stream",
          "text": [
            "Reading data...\n",
            "Finished...\n"
          ],
          "name": "stdout"
        }
      ]
    },
    {
      "metadata": {
        "id": "A39J5_H8bXaq",
        "colab_type": "text"
      },
      "cell_type": "markdown",
      "source": [
        "1.  BALANCE_TENURE --> 182.0\n",
        "2.  CURRENT_TENOR --> 203.0\n",
        "\n"
      ]
    },
    {
      "metadata": {
        "id": "JZk4lR4eXa_C",
        "colab_type": "code",
        "colab": {}
      },
      "cell_type": "code",
      "source": [
        "bt_imputer = SimpleImputer(strategy='constant', fill_value=182.)\n",
        "ct_imputer = SimpleImputer(strategy='constant', fill_value=203.)\n",
        "\n",
        "transactions.BALANCE_TENURE = bt_imputer.fit_transform(transactions.BALANCE_TENURE.values.reshape(-1, 1))\n",
        "transactions.CURRENT_TENOR = ct_imputer.fit_transform(transactions.CURRENT_TENOR.values.reshape(-1, 1))"
      ],
      "execution_count": 0,
      "outputs": []
    },
    {
      "metadata": {
        "id": "Cm0McxExYZIK",
        "colab_type": "code",
        "colab": {}
      },
      "cell_type": "code",
      "source": [
        "agg_func = {'AGREEMENTID':['count'],\n",
        "           'LOAN_AMT':['max'],\n",
        "           'NET_DISBURSED_AMT':['max'],\n",
        "           'CURRENT_ROI':['mean', 'min', 'max'],\n",
        "           'ORIGNAL_ROI':['mean'],\n",
        "           'CURRENT_TENOR':['min', 'max', 'mean'],\n",
        "           'ORIGNAL_TENOR':['max'],\n",
        "           'PRE_EMI_DUEAMT':['mean'], \n",
        "           'PRE_EMI_RECEIVED_AMT':['mean'],\n",
        "           'EMI_DUEAMT':['mean'],\n",
        "           'EMI_RECEIVED_AMT':['mean'],\n",
        "           'EMI_OS_AMOUNT':['sum'],\n",
        "           'EXCESS_AVAILABLE':['sum'],\n",
        "           'EXCESS_ADJUSTED_AMT':['sum'],\n",
        "           'OUTSTANDING_PRINCIPAL':['sum'],\n",
        "           'PAID_PRINCIPAL':['sum'],\n",
        "           'PAID_INTEREST':['sum'],\n",
        "           'MONTHOPENING':['min'],\n",
        "           'NET_LTV':['mean'],\n",
        "           'COMPLETED_TENURE':['max'],\n",
        "           'FOIR':['mean'],\n",
        "           'BALANCE_TENURE':['min'],\n",
        "           'MOB':['max', 'mean']}\n",
        "\n",
        "agg_transactions = transactions.groupby('AGREEMENTID').agg(agg_func)\n",
        "agg_transactions.columns = ['_'.join(col).strip() for col in agg_transactions.columns.values]\n",
        "agg_transactions.reset_index(inplace=True)"
      ],
      "execution_count": 0,
      "outputs": []
    },
    {
      "metadata": {
        "id": "MmKO0Od8gXig",
        "colab_type": "text"
      },
      "cell_type": "markdown",
      "source": [
        "1.   LOAN_AMT - NET_DISBURSED_AMT (This is not a good feture)\n",
        "2.   ORIGNAL_TENOR - CURRENT_TENOR\n",
        "3.   OUTSTANDING_PRINCIPAL - PAID_PRINCIPAL\n",
        "4.   COMPLETED_TENURE - BALANCE_TENURE\n",
        "5.   EMI_DUEAMT - EMI_RECEIVED_AMT\n",
        "6.   EXCESS_AVAILABLE - EXCESS_ADJUSTED_AMT\n",
        "7.   PRE_EMI_DUEAMT - PRE_EMI_RECEIVED_AMT (This is not a good feture)\n",
        "\n"
      ]
    },
    {
      "metadata": {
        "id": "CQLQmScZgGDJ",
        "colab_type": "code",
        "colab": {}
      },
      "cell_type": "code",
      "source": [
        "agg_transactions['OT-CT'] = agg_transactions.ORIGNAL_TENOR_max - agg_transactions.CURRENT_TENOR_mean\n",
        "agg_transactions['OP-PP'] = agg_transactions.OUTSTANDING_PRINCIPAL_sum - agg_transactions.PAID_PRINCIPAL_sum\n",
        "agg_transactions['CT-BT'] = agg_transactions.COMPLETED_TENURE_max -  agg_transactions.BALANCE_TENURE_min\n",
        "agg_transactions['EMID-EMIR'] = agg_transactions.EMI_DUEAMT_mean - agg_transactions.EMI_RECEIVED_AMT_mean\n",
        "agg_transactions['EAV-EAD'] = agg_transactions.EXCESS_AVAILABLE_sum - agg_transactions.EXCESS_ADJUSTED_AMT_sum"
      ],
      "execution_count": 0,
      "outputs": []
    },
    {
      "metadata": {
        "id": "Ry_5wT5RFFQ9",
        "colab_type": "code",
        "colab": {}
      },
      "cell_type": "code",
      "source": [
        "train_X = pd.merge(train, agg_transactions, on='AGREEMENTID', how='left')\n",
        "\n",
        "X = train_X.drop(['AGREEMENTID', 'FORECLOSURE'], axis=1).values\n",
        "y = train_X['FORECLOSURE'].values\n",
        "\n",
        "from sklearn.preprocessing import StandardScaler\n",
        "ss = StandardScaler()\n",
        "X = ss.fit_transform(X)\n",
        "\n",
        "X_train, X_test, y_train, y_test = train_test_split(X, y,\n",
        "                                                    test_size=0.1,\n",
        "                                                    random_state=2019)\n",
        "\n",
        "test_pred = pd.merge(test, agg_transactions, on='AGREEMENTID', how='left')\n",
        "test_X = test_pred.drop(['AGREEMENTID', 'FORECLOSURE'], axis=1).values\n",
        "test_X = ss.transform(test_X)"
      ],
      "execution_count": 0,
      "outputs": []
    },
    {
      "metadata": {
        "id": "lj9N26tVi-SK",
        "colab_type": "code",
        "outputId": "5fd8bfcf-e2f2-490b-d010-72ecebb9a6f0",
        "colab": {
          "base_uri": "https://localhost:8080/",
          "height": 85
        }
      },
      "cell_type": "code",
      "source": [
        "params = {'max_depth':-1,\n",
        "         'max_bin':50,\n",
        "         'min_data_in_leaf':15,\n",
        "         'min_sum_hessian_in_leaf':1e-2,\n",
        "         'feature_fraction':0.8,\n",
        "         'bagging_fraction':0.8,\n",
        "         'bagging_freq':10, \n",
        "         'lambda_l1':0.03,\n",
        "         'lambda_l2':0.03,\n",
        "         'min_gain_to_split':0.5,\n",
        "         'boosting_type':'dart',\n",
        "         'metric':'auc',\n",
        "         'objective':'binary',\n",
        "         'learning_rate':0.007,\n",
        "         'num_leaves':80}\n",
        "\n",
        "n_splits = 10\n",
        "skf = StratifiedKFold(n_splits=n_splits, shuffle=True, random_state=2019)\n",
        "oof = np.zeros(len(train))\n",
        "predictions = np.zeros(len(test))\n",
        "\n",
        "for fold_, (trn_idx, val_idx) in enumerate(skf.split(X, y)):\n",
        "  \n",
        "    print(\"Fold Number --> {}\".format(fold_+1))\n",
        "    \n",
        "    trn_data = lgbm.Dataset(X[trn_idx], y[trn_idx])\n",
        "    val_data = lgbm.Dataset(X[val_idx], y[val_idx])\n",
        "\n",
        "    num_round = 500\n",
        "    clf = lgbm.train(params, trn_data, num_round, valid_sets=[trn_data, val_data],\n",
        "                     verbose_eval=100)\n",
        "    oof[val_idx] = clf.predict(X[val_idx], num_iteration=clf.best_iteration)\n",
        "    \n",
        "    lgbm.plot_importance(clf)\n",
        "    plt.show()\n",
        "    \n",
        "    predictions += clf.predict(test_X, num_iteration=clf.best_iteration)/n_splits\n",
        "\n",
        "print(\"CV score: {:<8.5f}\".format(roc_auc_score(y, oof)))"
      ],
      "execution_count": 0,
      "outputs": [
        {
          "output_type": "stream",
          "text": [
            "Fold Number --> 1\n",
            "[100]\ttraining's auc: 0.953943\tvalid_1's auc: 0.930177\n",
            "[200]\ttraining's auc: 0.959883\tvalid_1's auc: 0.936262\n",
            "[300]\ttraining's auc: 0.963502\tvalid_1's auc: 0.941133\n"
          ],
          "name": "stdout"
        }
      ]
    },
    {
      "metadata": {
        "id": "eMrviRr7jmR4",
        "colab_type": "code",
        "colab": {}
      },
      "cell_type": "code",
      "source": [
        "test.FORECLOSURE = predictions"
      ],
      "execution_count": 0,
      "outputs": []
    },
    {
      "metadata": {
        "id": "7nnOIlnik8Pb",
        "colab_type": "code",
        "colab": {}
      },
      "cell_type": "code",
      "source": [
        "attempt = 7\n",
        "test.to_csv(\"submission{}.csv\".format(attempt), index=False)"
      ],
      "execution_count": 0,
      "outputs": []
    },
    {
      "metadata": {
        "id": "8Ojfy9SFlA1M",
        "colab_type": "code",
        "colab": {}
      },
      "cell_type": "code",
      "source": [
        ""
      ],
      "execution_count": 0,
      "outputs": []
    }
  ]
}